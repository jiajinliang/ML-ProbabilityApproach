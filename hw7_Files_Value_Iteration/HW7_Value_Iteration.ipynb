{
 "cells": [
  {
   "cell_type": "raw",
   "metadata": {},
   "source": []
  },
  {
   "cell_type": "code",
   "execution_count": 2,
   "metadata": {},
   "outputs": [
    {
     "name": "stdout",
     "output_type": "stream",
     "text": [
      "(187, 3)\n"
     ]
    }
   ],
   "source": [
    "import numpy as np\n",
    "reward = np.genfromtxt(\"./hw7_Files/rewards.txt\")\n",
    "West_Trasition_Matrix = np.genfromtxt(\"./hw7_Files/prob_a1.txt\")\n",
    "North_Trasition_Matrix = np.genfromtxt(\"./hw7_Files/prob_a2.txt\")\n",
    "East_Trasition_Matrix = np.genfromtxt(\"./hw7_Files/prob_a3.txt\")\n",
    "South_Trasition_Matrix = np.genfromtxt(\"./hw7_Files/prob_a4.txt\")\n",
    "print(West_Trasition_Matrix.shape)"
   ]
  },
  {
   "cell_type": "code",
   "execution_count": 6,
   "metadata": {},
   "outputs": [
    {
     "name": "stdout",
     "output_type": "stream",
     "text": [
      "5 -2.9718439059375004e-07\n",
      "11 -0.06125964444145352\n",
      "12 -0.0033400166399116067\n",
      "13 -0.003052427912356002\n",
      "14 -6.0037250625000004e-06\n",
      "15 -0.05524244898306765\n",
      "16 -0.00288112308783097\n",
      "17 -0.00015755943137099664\n",
      "20 -1.0584358101777245\n",
      "22 -0.055247043751665774\n",
      "24 -1.0578306937790782\n",
      "26 -6.003761107214626e-06\n",
      "29 -0.061080810845111994\n",
      "30 -0.05553914271933733\n",
      "31 -1.0578467594080216\n",
      "33 -0.05523707981070184\n",
      "35 -2.97186174807124e-07\n",
      "38 -0.003471459530298185\n",
      "39 -0.0030868566625720977\n",
      "40 -99.99015742709012\n",
      "42 -0.0028800337141151357\n",
      "44 -2.9421607943029303e-08\n",
      "47 -0.00015778401965493751\n",
      "48 -1.8011175187500002e-05\n",
      "49 -8.915531717812502e-07\n",
      "50 -4.413188200317189e-08\n",
      "51 -0.0001411188113519019\n",
      "52 -6.003833196643879e-06\n",
      "53 -2.9718974323387204e-07\n",
      "55 -99.99015742709012\n",
      "57 -8.915531717812502e-07\n",
      "58 -99.99015742709012\n",
      "60 -6.003833196643879e-06\n",
      "61 -99.99015742709012\n",
      "66 -4.413188200317189e-08\n",
      "67 -2.1845281591570084e-09\n",
      "68 -1.0813414387827193e-10\n",
      "69 5.850189584215183\n",
      "73 99.99015742709012\n",
      "75 -2.1845281591570084e-09\n",
      "76 6.308671890387153\n",
      "78 8.14054985478868\n",
      "79 8.85097034221676\n"
     ]
    }
   ],
   "source": [
    "Vk = [0] * 81\n",
    "done = [0] * 81\n",
    "num_of_done = 0\n",
    "k=0\n",
    "discount_factor = 0.99\n",
    "while True:\n",
    "    for i in range (0,81):\n",
    "        if(done[i]== 0):    \n",
    "            west_value = 0;\n",
    "            for rows in West_Trasition_Matrix:\n",
    "                if (rows[0] == i):\n",
    "                    west_value += rows[2]*Vk[int(rows[1])]\n",
    "            north_value = 0;\n",
    "            for rows in North_Trasition_Matrix:\n",
    "                if (rows[0] == i):\n",
    "                    north_value += rows[2]*Vk[int(rows[1])]\n",
    "            east_value = 0;\n",
    "            for rows in East_Trasition_Matrix:\n",
    "                if (rows[0] == i):\n",
    "                    east_value += rows[2]*Vk[int(rows[1])]\n",
    "            south_value = 0;\n",
    "            for rows in South_Trasition_Matrix:\n",
    "                if (rows[0] == i):\n",
    "                    south_value += rows[2]*Vk[int(rows[1])]\n",
    "            max_value = max(west_value,north_value,east_value,south_value)\n",
    "            temp = Vk[i]\n",
    "            Vk[i] = reward[i] + discount_factor * max_value\n",
    "            diff = abs(temp - Vk[i])\n",
    "            if(diff < 0.0001 and Vk[i]!=0):\n",
    "                done[i]=1;\n",
    "                num_of_done+=1\n",
    "    #print(num_of_done)\n",
    "    #print(Vk)\n",
    "    if(num_of_done == 43):\n",
    "        break\n",
    "        \n",
    "i = 0\n",
    "for V in Vk:\n",
    "    if(V!=0):\n",
    "        print(i, V)\n",
    "    i+=1\n",
    "            "
   ]
  },
  {
   "cell_type": "code",
   "execution_count": null,
   "metadata": {},
   "outputs": [],
   "source": []
  },
  {
   "cell_type": "code",
   "execution_count": null,
   "metadata": {},
   "outputs": [],
   "source": []
  },
  {
   "cell_type": "code",
   "execution_count": null,
   "metadata": {},
   "outputs": [],
   "source": []
  }
 ],
 "metadata": {
  "kernelspec": {
   "display_name": "Python 3",
   "language": "python",
   "name": "python3"
  },
  "language_info": {
   "codemirror_mode": {
    "name": "ipython",
    "version": 3
   },
   "file_extension": ".py",
   "mimetype": "text/x-python",
   "name": "python",
   "nbconvert_exporter": "python",
   "pygments_lexer": "ipython3",
   "version": "3.6.4"
  }
 },
 "nbformat": 4,
 "nbformat_minor": 2
}
