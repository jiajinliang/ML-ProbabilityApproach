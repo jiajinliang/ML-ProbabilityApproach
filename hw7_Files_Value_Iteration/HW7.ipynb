{
 "cells": [
  {
   "cell_type": "code",
   "execution_count": null,
   "metadata": {},
   "outputs": [],
   "source": [
    "import numpy as np\n",
    "import math\n",
    " \n",
    "p_a1 = np.genfromtxt('hw7_prob_a1.txt'); \n",
    "p_a2 = np.genfromtxt('hw7_prob_a2.txt'); \n",
    "p_a3 = np.genfromtxt('hw7_prob_a3.txt'); \n",
    "p_a4 = np.genfromtxt('hw7_prob_a4.txt'); \n",
    "rewards = np.genfromtxt('hw7_rewards.txt');\n",
    " \n",
    "S = 81\n",
    "A = 4\n",
    "gamma = 0.99\n",
    " \n",
    "print (p_a1.shape, p_a2.shape, p_a3.shape, p_a4.shape, rewards.shape)\n",
    " \n",
    "p_a = [] p_a.append(p_a1)\n",
    "p_a.append(p_a2)\n",
    "p_a.append(p_a3)\n",
    "p_a.append(p_a4)\n",
    " \n",
    "A_list = [] A_list.append(\"West\")\n",
    "A_list.append(\"North\")\n",
    "A_list.append(\"East\") \n",
    "A_list.append(\"South\")\n",
    "tr_a1 = []\n",
    "tr_a2 = [] \n",
    "tr_a3 = []\n",
    "tr_a4 = []\n",
    "transition_list = []\n",
    "for i in range(S*S):   \n",
    "    tr_a1.append(0.0)    \n",
    "    tr_a2.append(0.0)   \n",
    "    tr_a3.append(0.0)  \n",
    "    tr_a4.append(0.0)\n",
    " \n",
    "\n",
    "#print (tr_a1.shape,tr_a2.shape,tr_a3.shape,tr_a4.shape)\n",
    " \n",
    "tr_a1=np.reshape(tr_a1,(S,S)) tr_a2=np.reshape(tr_a2,(S,S))\n",
    "tr_a3=np.reshape(tr_a3,(S,S)) tr_a4=np.reshape(tr_a4,(S,S)) #print (tr_a1.shape,tr_a2.shape,tr_a3.shape,tr_a4.shape)\n",
    " \n",
    "transition_list.append(tr_a1) transition_list.append(tr_a2) transition_list.append(tr_a3) transition_list.append(tr_a4)\n",
    " \n",
    "for i in range(A):        p_t = p_a[i]    t_m = transition_list[i]        for p in p_t:                p_i1=int(p[0])        p_i2=int(p[1])        t_m[p_i1-1][p_i2-1] = p[2]"
   ]
  }
 ],
 "metadata": {
  "kernelspec": {
   "display_name": "Python 3",
   "language": "python",
   "name": "python3"
  },
  "language_info": {
   "codemirror_mode": {
    "name": "ipython",
    "version": 3
   },
   "file_extension": ".py",
   "mimetype": "text/x-python",
   "name": "python",
   "nbconvert_exporter": "python",
   "pygments_lexer": "ipython3",
   "version": "3.6.4"
  }
 },
 "nbformat": 4,
 "nbformat_minor": 2
}
