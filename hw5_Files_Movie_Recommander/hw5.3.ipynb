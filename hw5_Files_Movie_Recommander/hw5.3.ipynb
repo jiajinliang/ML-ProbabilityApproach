{
 "cells": [
  {
   "cell_type": "code",
   "execution_count": 77,
   "metadata": {},
   "outputs": [
    {
     "name": "stdout",
     "output_type": "stream",
     "text": [
      "(61, 4)\n",
      "[0.25, 0.25, 0.25, 0.25]\n",
      "iteration  0  log likehood is  -86.15154800342239\n",
      "iteration  1  log likehood is  -86.88788602054565\n",
      "iteration  2  log likehood is  -86.89417950787148\n",
      "iteration  4  log likehood is  -86.89423375810924\n",
      "iteration  8  log likehood is  -86.89423376207259\n",
      "iteration  16  log likehood is  -86.89423376207259\n",
      "iteration  32  log likehood is  -86.89423376207259\n",
      "iteration  64  log likehood is  -86.89423376207259\n"
     ]
    }
   ],
   "source": [
    "import re\n",
    "import numpy\n",
    "import math\n",
    "#r=numpy.genfromtxt(\"./hw5_movieRatings_sp18.txt\")\n",
    "\n",
    "f = open(\"./hw5_movieRatings_sp18.txt\", 'r')\n",
    "lines = f.readlines()\n",
    "f.close()\n",
    "list=[]\n",
    "for line in lines:\n",
    "    word= re.split ('\\t+', line)\n",
    "    list.insert(-1,word)\n",
    "#print(list)\n",
    "#print(r)\n",
    "num_saw=0\n",
    "num_rec=0\n",
    "mpr=[0]*61\n",
    "for i in range (0,61):\n",
    "    for j in range (0,117):\n",
    "        if(list[j][i][0]!='?'):\n",
    "            num_saw=num_saw+1\n",
    "        if(list[j][i][0]=='1'):\n",
    "            num_rec=num_rec+1\n",
    "    mpr[i]=num_rec/num_saw\n",
    "    num_saw=0\n",
    "    num_rec=0\n",
    "#print(mpr)\n",
    "f=open(\"./hw5_movieTitles_sp18.txt\",'r')\n",
    "lines = f.readlines()\n",
    "#print(lines)\n",
    "f.close()\n",
    "\n",
    "res=sorted(zip(mpr,lines))\n",
    "#print(res)\n",
    "iRgivenZ = numpy.genfromtxt('./hw5_probRgivenZ_init.txt')\n",
    "print(iRgivenZ.shape)\n",
    "z=[0.25]*4\n",
    "print(z)\n",
    "p=1\n",
    "L=0\n",
    "PR=0\n",
    "for e in range (0,128):\n",
    "    for i in range (0,117):\n",
    "        #print(i)\n",
    "        for k in range (0,4):\n",
    "            for j in range (0,61):\n",
    "                #print(list[i][j])\n",
    "                if(list[117-i-1][j][0]!='1'):\n",
    "                    p=p*iRgivenZ[j][k];\n",
    "                if(list[117-i-1][j][0]!='0'):\n",
    "                    p=p*(1-iRgivenZ[j][k]);\n",
    "            p=p*z[k]\n",
    "            #print(p)\n",
    "            PR=PR+p\n",
    "            p=1\n",
    "        L=L+math.log(PR)\n",
    "        PR=0\n",
    "        #print(L)\n",
    "    L=L/117\n",
    "    if(e==0 or e==1 or e==2 or e==4 or e==8 or e==16 or e==32 or e==64 or e==128 or e==256 or e==512):\n",
    "        print(\"iteration \", e, \" log likehood is \", L)\n",
    "    #print(list)"
   ]
  },
  {
   "cell_type": "code",
   "execution_count": null,
   "metadata": {},
   "outputs": [],
   "source": []
  }
 ],
 "metadata": {
  "kernelspec": {
   "display_name": "Python 3",
   "language": "python",
   "name": "python3"
  },
  "language_info": {
   "codemirror_mode": {
    "name": "ipython",
    "version": 3
   },
   "file_extension": ".py",
   "mimetype": "text/x-python",
   "name": "python",
   "nbconvert_exporter": "python",
   "pygments_lexer": "ipython3",
   "version": "3.6.4"
  }
 },
 "nbformat": 4,
 "nbformat_minor": 2
}
