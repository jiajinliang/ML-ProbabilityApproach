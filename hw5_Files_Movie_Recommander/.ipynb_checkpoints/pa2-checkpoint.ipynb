{
 "cells": [
  {
   "cell_type": "code",
   "execution_count": 266,
   "metadata": {},
   "outputs": [
    {
     "name": "stdout",
     "output_type": "stream",
     "text": [
      "['SAID', 0.007828087559206009, 'SIX', 0.0022302839239406883, 'SEVEN', 0.0021872703706721387, 'S.', 0.002142055384481116, 'SOME', 0.001193678081479582, 'SAYS', 0.0010971330176462216, 'SHE', 0.0009824261322024556, 'SEVENTY', 0.0009282586521267077, 'SIXTY', 0.0008938551476216097, 'STATE', 0.0008512696507546524, 'SO', 0.0007557519222851128, 'STOCK', 0.0006683183447142116, 'SUCH', 0.0006455824346982225, 'SINCE', 0.000628447948451638, 'SAY', 0.0005876113677397568, 'STATES', 0.0005332848952862747, 'SHARE', 0.0005293956971232384, 'SOVIET', 0.0005295057687693621, 'SALES', 0.0004902101911032122, 'STILL', 0.00046870952956038875, 'SECOND', 0.00046791456767171784, 'SHOULD', 0.0004497527460613124, 'SHARES', 0.0003934572141605069, 'SEVERAL', 0.0003715896471306046, 'SPOKESMAN', 0.0003645939825103003, 'SERVICE', 0.00033374946122986766, 'SAN', 0.00033169479050222585, 'SOUTH', 0.0003225955344226692, 'SYSTEM', 0.00032354948868907436, 'SCHOOL', 0.000318999860649296, 'SAME', 0.0003165905146174779, 'SET', 0.0002918855451541655, 'SEE', 0.00029014885918199205, 'SMALL', 0.00026957769153976855, 'SECURITIES', 0.00026892949184592916, 'SUPPORT', 0.0002672294964224636, 'SHOW', 0.00026006260924152244, 'SERVICES', 0.0002526388882196261, 'SAYING', 0.0002314195208835632, 'SECURITY', 0.00023091808338455538, 'SUNDAY', 0.0002279461489392163, 'STOCKS', 0.00021517783798887067, 'SENATE', 0.00021676776176621256, 'SECRETARY', 0.00020969871604849247, 'STREET', 0.00020163902551565937, 'SIXTEEN', 0.00020228722520949875, 'SOLD', 0.00020269082124528553]\n"
     ]
    }
   ],
   "source": [
    "import numpy as np\n",
    "import re\n",
    "import math\n",
    "import matplotlib.pyplot as plt\n",
    "np.set_printoptions(suppress=True)\n",
    "bigram=numpy.loadtxt(\"hw4_bigram.txt\")\n",
    "unigram=numpy.loadtxt(\"hw4_unigram.txt\")\n",
    "\n",
    "total=np.sum(unigram)\n",
    "vocab=[]\n",
    "f = open(\"C:\\\\Users\\\\dbals\\\\OneDrive\\\\바탕 화면\\\\cse150_programming\\\\hw4_vocab.txt\", 'r')\n",
    "lines = f.readlines()\n",
    "f.close()\n",
    "for line in lines:\n",
    "    word1= re.split ('[ \\n]+', line)\n",
    "    vocab.append(word1[0])\n",
    "s_list=[]\n",
    "pro_list=[]\n",
    "for line in vocab:\n",
    "    if(line[0]=='S'):\n",
    "        s_list.append(line)\n",
    "        pro_list.append(unigram[vocab.index(line)]/total)     \n",
    "        \n",
    "#Q.(a)       \n",
    "i=0\n",
    "result=[]\n",
    "for a in s_list:\n",
    "    result.append(a)\n",
    "    result.append(pro_list[i])\n",
    "    i=i+1\n",
    "print(result)"
   ]
  },
  {
   "cell_type": "code",
   "execution_count": 267,
   "metadata": {},
   "outputs": [
    {
     "name": "stdout",
     "output_type": "stream",
     "text": [
      "['<UNK>', 0.6150200693836527, 'U.', 0.013372758810751223, 'FIRST', 0.011720520053172518, 'COMPANY', 0.011659047433777518, 'NEW', 0.009451739454657458, 'UNITED', 0.008672567519372305, 'GOVERNMENT', 0.006803748014136109, 'NINETEEN', 0.006650974289141782, 'SAME', 0.006287326135589923, 'TWO', 0.006161008980968129]\n"
     ]
    }
   ],
   "source": [
    "#Q(b)\n",
    "\n",
    "The_index=vocab.index(\"THE\")\n",
    "The_index=The_index+1\n",
    "count=0\n",
    "bi_li=[]\n",
    "for a in bigram:\n",
    "    if (a[0]==The_index):\n",
    "        bi_li.append(a)\n",
    "        count=count+a[2]\n",
    "new_li=sorted(bi_li,key=lambda l:l[2], reverse=True)\n",
    "new_li=new_li[0:10]\n",
    "\n",
    "words=[]\n",
    "pros=[]\n",
    "for line in new_li:       \n",
    "    pros.append((line[2]+1)/count)\n",
    "    temp=vocab[(int(line[1])-1)]\n",
    "    words.append(temp)\n",
    "\n",
    "i=0\n",
    "result=[]\n",
    "for a in words:\n",
    "    result.append(a)\n",
    "    result.append(pros[i])\n",
    "    i=i+1\n",
    "    \n",
    "print(result)\n"
   ]
  },
  {
   "cell_type": "code",
   "execution_count": 268,
   "metadata": {},
   "outputs": [],
   "source": [
    "#(functions for c,d )\n",
    "def P_u(word):\n",
    "    return unigram[vocab.index(word)]/total\n",
    "\n",
    "def P_b(w1,w2):\n",
    "    \n",
    "    ind_w1 = vocab.index(w1) + 1\n",
    "    ind_w2 = vocab.index(w2) + 1\n",
    "    w1_s = unigram[vocab.index(w1)]\n",
    "    for a in bigram:\n",
    "        if (ind_w1 == a[0] and ind_w2 == a[1]):\n",
    "            return a[2]/w1_s\n",
    "    return 0"
   ]
  },
  {
   "cell_type": "code",
   "execution_count": 269,
   "metadata": {},
   "outputs": [
    {
     "name": "stdout",
     "output_type": "stream",
     "text": [
      "L_u:  -64.50944034364878\n",
      "L_b:  -40.91813213378977\n",
      "highest log-likelihood : Bigram model\n"
     ]
    }
   ],
   "source": [
    "#Q(c)\n",
    "sen = ['THE','STOCK','MARKET','FELL','BY','ONE','HUNDRED','POINTS','LAST','WEEK']\n",
    "L_u=1\n",
    "for word in sen:\n",
    "    L_u = L_u * P_u(word)\n",
    "\n",
    "\n",
    "L_b=1\n",
    "L_b = P_b('<s>',sen[0])\n",
    "for i in range(0, len(sen)-1):\n",
    "    L_b = L_b * P_b(sen[i],sen[i+1])\n",
    "    \n",
    "L_u_result = math.log(L_u)    \n",
    "L_b_result = math.log(L_b)\n",
    "\n",
    "print (\"L_u: \" , L_u_result)\n",
    "print (\"L_b: \" , L_b_result)\n",
    "print (\"highest log-likelihood : Bigram model\")"
   ]
  },
  {
   "cell_type": "code",
   "execution_count": 270,
   "metadata": {},
   "outputs": [
    {
     "name": "stdout",
     "output_type": "stream",
     "text": [
      "L_u result:  -44.291934473132606\n",
      "pair of SIXTEEN and OFFICIALS\n",
      "pair of OFFICIALS and SOLD\n",
      "pair of SOLD and FIRE\n",
      "pair of FIRE and INSURANCE\n",
      "L_b :  0.0\n",
      "Above L_b pairs of adjacent words in this sentence are not observed in the training corpus \n",
      "because after looping, L_b is 0 (one of that 0 when we calculate)\n",
      "interms about log graph , we can notice that log0 ->neg.infinite\n"
     ]
    }
   ],
   "source": [
    "#Q(d)\n",
    "sen = ['THE','SIXTEEN','OFFICIALS','SOLD','FIRE','INSURANCE']\n",
    "L_u=1\n",
    "for word in sen:\n",
    "    L_u = L_u * P_u(word)\n",
    "    \n",
    "L_u_result = math.log(L_u) \n",
    "print (\"L_u result: \" , L_u_result)\n",
    "\n",
    "L_b=1\n",
    "L_b = P_b('<s>',sen[0])\n",
    "for i in range(0, len(sen)-1):\n",
    "    L_b = L_b * P_b(sen[i],sen[i+1])\n",
    "    if(L_b * P_b(sen[i],sen[i+1])==0):\n",
    "        print('pair of' , sen[i] ,'and', sen[i+1] )\n",
    "\n",
    "#L_u_result = math.log(L_u)    \n",
    "#L_b_result = math.log(L_b)\n",
    "print('L_b : ', L_b)\n",
    "print (\"Above L_b pairs of adjacent words in this sentence are not observed in the training corpus \")\n",
    "print (\"because after looping, L_b is 0 (one of that 0 when we calculate)\")\n",
    "print (\"interms about log graph , we can notice that log0 ->neg.infinite\")\n",
    "\n"
   ]
  },
  {
   "cell_type": "code",
   "execution_count": 271,
   "metadata": {},
   "outputs": [
    {
     "data": {
      "image/png": "[encoded data removed]",
      "text/plain": [
       "<matplotlib.figure.Figure at 0x2310cf58ef0>"
      ]
     },
     "metadata": {},
     "output_type": "display_data"
    }
   ],
   "source": [
    "#Q(e)\n",
    "def P_m(w1,w2,l):\n",
    "    return (1-l)*P_u(w2) + l*P_b(w1,w2)\n",
    "lam=0\n",
    "lam_li=[]\n",
    "L_m_li=[]\n",
    "sen = ['THE','SIXTEEN','OFFICIALS','SOLD','FIRE','INSURANCE']\n",
    "\n",
    "while (lam < 1.000000000001):\n",
    "    L_m = P_m('<s>',sen[0],lam)\n",
    "    for i in range(0, (len(sen)-1)):\n",
    "        L_m = L_m * P_m(sen[i],sen[i+1],lam)\n",
    "    if L_m <= 0:\n",
    "        L_m_li.append(-float('inf'))\n",
    "    else:\n",
    "        L_m_li.append(math.log(L_m))\n",
    "    lam_li.append(lam)\n",
    "    lam = lam + 0.01\n",
    "\n",
    "plt.xlabel('lambda')\n",
    "plt.ylabel('mixture log-likelihood')\n",
    "plt.plot(lam_li,L_m_li)\n",
    "plt.show()"
   ]
  },
  {
   "cell_type": "code",
   "execution_count": 272,
   "metadata": {},
   "outputs": [
    {
     "name": "stdout",
     "output_type": "stream",
     "text": [
      "L_m_max = -42.96416428296298\n",
      "lamda = 0.35000000000000014\n"
     ]
    }
   ],
   "source": [
    "L_m_max = np.array(L_m_li).max()\n",
    "ind_L=L_m_li.index(L_m_max)\n",
    "lam_max = lam_li[ind_L]\n",
    "print ('L_m_max =', L_m_max)\n",
    "print ('lamda =', lam_max)"
   ]
  },
  {
   "cell_type": "code",
   "execution_count": null,
   "metadata": {},
   "outputs": [],
   "source": []
  }
 ],
 "metadata": {
  "kernelspec": {
   "display_name": "Python 3",
   "language": "python",
   "name": "python3"
  },
  "language_info": {
   "codemirror_mode": {
    "name": "ipython",
    "version": 3
   },
   "file_extension": ".py",
   "mimetype": "text/x-python",
   "name": "python",
   "nbconvert_exporter": "python",
   "pygments_lexer": "ipython3",
   "version": "3.6.4"
  }
 },
 "nbformat": 4,
 "nbformat_minor": 2
}
