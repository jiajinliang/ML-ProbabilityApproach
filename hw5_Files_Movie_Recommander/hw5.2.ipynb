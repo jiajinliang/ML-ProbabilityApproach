{
 "cells": [
  {
   "cell_type": "code",
   "execution_count": 154,
   "metadata": {},
   "outputs": [
    {
     "name": "stdout",
     "output_type": "stream",
     "text": [
      "iteration  0  log likehood is  -0.9580854082157914  M is  175\n",
      "iteration  1  log likehood is  -0.49950472893976766  M is  56\n",
      "iteration  2  log likehood is  -0.41009162128662996  M is  43\n",
      "iteration  3  log likehood is  -0.3794766072813316  M is  40\n",
      "iteration  4  log likehood is  -0.3660362432016159  M is  42\n",
      "iteration  8  log likehood is  -0.3488165465016118  M is  44\n",
      "iteration  16  log likehood is  -0.33587962587988723  M is  40\n",
      "iteration  32  log likehood is  -0.32379588705396356  M is  37\n",
      "iteration  64  log likehood is  -0.31601073978108957  M is  37\n",
      "iteration  128  log likehood is  -0.3123256902547882  M is  36\n",
      "iteration  256  log likehood is  -0.31132738175626906  M is  36\n",
      "iteration  511  log likehood is  -0.31115584222716525  M is  36\n",
      "iteration  512  log likehood is  -0.31115568067121985  M is  36\n",
      "[7.825910611671573e-05, 0.0047896936438733455, 2.4572053572601886e-11, 0.2653480592892651, 1.4641986190239666e-05, 0.009414189848976004, 0.24031335014859453, 0.11340199970656507, 0.0001416199333200315, 0.5234838385255078, 0.4073197394282568, 8.818891591636871e-08, 0.6158119943991922, 5.837772618077978e-06, 0.044823707802064225, 0.5899862302524816, 0.9999999999999938, 0.9999999828376271, 4.011172119017799e-09, 0.46299769189725615, 0.35319531211378413, 0.5248673231383694, 0.19475780199532694]\n"
     ]
    }
   ],
   "source": [
    "import re\n",
    "import math\n",
    "import numpy as np\n",
    "f = open(\"./hw5_Files/hw5_noisyOr_x.txt\", 'r')\n",
    "lines = f.readlines()\n",
    "f.close()\n",
    "Matrix = [[0 for x in range(23)] for y in range(267)]\n",
    "#print (Matrix)\n",
    "t=0;\n",
    "i=0;\n",
    "for line in lines:\n",
    "    for number in line:\n",
    "        if((number!='\\n') and (number!=' ')):\n",
    "            Matrix[t][i]=number;\n",
    "            i=i+1;\n",
    "        if(number=='\\n'):\n",
    "            t=t+1;\n",
    "            i=0;\n",
    "#print (Matrix)\n",
    "y=np.loadtxt(\"./hw5_Files/hw5_noisyOr_y.txt\")\n",
    "pi=[0.05]*23\n",
    "L=0\n",
    "for e in range (0,513):\n",
    "    pinew=[0]*23\n",
    "    M=0\n",
    "    #print(pi)\n",
    "    for t in range (0,267):\n",
    "        for i in range (0,23):\n",
    "            if(i==0):\n",
    "                p=(1-pi[i]) ** int(Matrix[t][i])\n",
    "            else:\n",
    "                p=p*((1-pi[i]) ** int(Matrix[t][i]))\n",
    "                #print(p)\n",
    "        if(y[t]==1):\n",
    "            #print(p)\n",
    "            p=1-p\n",
    "            if(p<=0.5):\n",
    "                M=M+1\n",
    "        else:\n",
    "            #print(p)\n",
    "            if(p<=0.5):\n",
    "                M=M+1\n",
    "        #print(pi)\n",
    "        #print(p)\n",
    "        L=L+math.log(p)\n",
    "        #print(L)\n",
    "    L=L/267\n",
    "    if(e==0 or e==1 or e==2 or e==4 or e==8 or e==16 or e==32 or e==64 or e==128 or e==256 or e==512):\n",
    "        print(\"iteration \", e, \" log likehood is \", L, \" M is \", M)\n",
    "    for i in range (0,23):\n",
    "        Ti=0\n",
    "        #print(pinew[i])\n",
    "        #print(p)\n",
    "        for t in range (0,267):\n",
    "            #print(t)\n",
    "            #print(Matrix[t][i]=='1')\n",
    "            for j in range (0,23):\n",
    "                if(j==0):\n",
    "                    p=(1-pi[j]) ** int(Matrix[t][j])\n",
    "                else:\n",
    "                    p=p*((1-pi[j]) ** int(Matrix[t][j]))\n",
    "            #print(p)\n",
    "            if(Matrix[t][i]=='1'):\n",
    "                Ti=Ti+1;\n",
    "                if(y[t]==1):\n",
    "                    pinew[i]=pinew[i]+pi[i]/(1-p)\n",
    "                    #print(i, pinew[i])\n",
    "        #print(Ti)\n",
    "        #print(pinew[i])\n",
    "        pinew[i]=pinew[i]/Ti;\n",
    "    #print(pi)\n",
    "    for i in range (0,23):\n",
    "        pi[i]=pinew[i]\n",
    "print(pi)"
   ]
  },
  {
   "cell_type": "code",
   "execution_count": null,
   "metadata": {},
   "outputs": [],
   "source": []
  },
  {
   "cell_type": "code",
   "execution_count": null,
   "metadata": {},
   "outputs": [],
   "source": []
  },
  {
   "cell_type": "code",
   "execution_count": null,
   "metadata": {},
   "outputs": [],
   "source": []
  }
 ],
 "metadata": {
  "kernelspec": {
   "display_name": "Python 3",
   "language": "python",
   "name": "python3"
  },
  "language_info": {
   "codemirror_mode": {
    "name": "ipython",
    "version": 3
   },
   "file_extension": ".py",
   "mimetype": "text/x-python",
   "name": "python",
   "nbconvert_exporter": "python",
   "pygments_lexer": "ipython3",
   "version": "3.6.4"
  }
 },
 "nbformat": 4,
 "nbformat_minor": 2
}
