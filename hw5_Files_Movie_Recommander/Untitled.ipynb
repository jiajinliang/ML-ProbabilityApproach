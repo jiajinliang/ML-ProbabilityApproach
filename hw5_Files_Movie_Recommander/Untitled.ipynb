{
 "cells": [
  {
   "cell_type": "code",
   "execution_count": 2,
   "metadata": {},
   "outputs": [
    {
     "ename": "SyntaxError",
     "evalue": "invalid syntax (<ipython-input-2-bad119745ebf>, line 6)",
     "output_type": "error",
     "traceback": [
      "\u001b[1;36m  File \u001b[1;32m\"<ipython-input-2-bad119745ebf>\"\u001b[1;36m, line \u001b[1;32m6\u001b[0m\n\u001b[1;33m    def P_y_given_x(x,y,p_list): p = 1.0 for i in range(n_feature): p = p * (1-p_list[i]) ** x[i]\u001b[0m\n\u001b[1;37m                                           ^\u001b[0m\n\u001b[1;31mSyntaxError\u001b[0m\u001b[1;31m:\u001b[0m invalid syntax\n"
     ]
    }
   ],
   "source": [
    "In [122]: import numpy as np \n",
    "import math\n",
    "In [123]: # Load data X = np.genfromtxt('hw5_noisyOr_x.txt') Y = np.genfromtxt('hw5_noisyOr_y.txt') print X.shape, Y.shape\n",
    "(267, 23) (267,)\n",
    "In [124]: n_data = X.shape[0] # T = 267 n_feature = X.shape[1] # n = 23\n",
    "In [125]: def P_y_given_x(x,y,p_list): p = 1.0 for i in range(n_feature): p = p * (1-p_list[i]) ** x[i]\n",
    "if y == 0: return p else: return 1-p\n",
    "In [126]: def Log_likelihood(p_list): s = 0.0 for i in range(n_data): s = s + math.log(P_y_given_x(X[i],Y[i],p_list))\n",
    "return 1.0*s/n_data\n",
    "In [132]: def Ti(i): s = 0 for x in X: if x[i] == 1: s = s + 1 return s\n",
    "1\n",
    "Ti_list = [] for i in range(n_feature): Ti_list.append(Ti(i)) In [133]: def EM_update(p_list): p_list_new = [] for i in range(n_feature): s = 0.0 for t in range(n_data): numerator = 1.0*Y[t]*X[t][i]*p_list[i] if numerator == 0: continue denominator = 1.0 for j in range(n_feature): denominator = 1.0*denominator*(1-p_list[j])**X[t][j] denominator = 1 - denominator s = s + numerator/denominator p_new = s / Ti_list[i] p_list_new.append(p_new) return p_list_new In [129]: def Mistake(p_list): y_pred = [] for x in X: if P_y_given_x(x,1.0,p_list) >= 0.5: y_pred.append(1.0) else: y_pred.append(0.0)\n",
    "return (y_pred != Y).sum() In [134]: p_list = [] for i in range(n_feature): p_list.append(0.05)\n",
    "mistake_list = [] log_likelihood_list = []\n",
    "mistake_list.append(Mistake(p_list)) log_likelihood_list.append(Log_likelihood(p_list))\n",
    "for i in range(512): p_list = EM_update(p_list) mistake_list.append(Mistake(p_list)) log_likelihood_list.append(Log_likelihood(p_list)) In [135]: print \"0 \", mistake_list[0], log_likelihood_list[0] print \"1 \", mistake_list[1], log_likelihood_list[1] print \"2 \", mistake_list[2], log_likelihood_list[2]\n",
    "2\n",
    "print \"4 \", mistake_list[4], log_likelihood_list[4] print \"8 \", mistake_list[8], log_likelihood_list[8] print \"16 \", mistake_list[16], log_likelihood_list[16] print \"32 \", mistake_list[32], log_likelihood_list[32] print \"64 \", mistake_list[64], log_likelihood_list[64] print \"128\", mistake_list[128], log_likelihood_list[128] print \"256\", mistake_list[256], log_likelihood_list[256] print \"512\", mistake_list[512], log_likelihood_list[512]"
   ]
  },
  {
   "cell_type": "code",
   "execution_count": null,
   "metadata": {},
   "outputs": [],
   "source": []
  }
 ],
 "metadata": {
  "kernelspec": {
   "display_name": "Python 3",
   "language": "python",
   "name": "python3"
  }
 },
 "nbformat": 4,
 "nbformat_minor": 2
}
