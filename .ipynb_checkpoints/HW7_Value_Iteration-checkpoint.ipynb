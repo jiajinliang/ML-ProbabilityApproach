{
 "cells": [
  {
   "cell_type": "raw",
   "metadata": {},
   "source": [
    "import numpy as np\n",
    "reward = np.genfromtxt(\"./hw7_Files/rewards.txt\")\n",
    "West_Trasition_Matrix = np.genfromtxt(\"./hw7_Files/prob_a1.txt\")\n",
    "North_Trasition_Matrix = np.genfromtxt(\"./hw7_Files/prob_a2.txt\")\n",
    "East_Trasition_Matrix = np.genfromtxt(\"./hw7_Files/prob_a3.txt\")\n",
    "South_Trasition_Matrix = np.genfromtxt(\"./hw7_Files/prob_a4.txt\")\n",
    "print(reward)\n"
   ]
  },
  {
   "cell_type": "code",
   "execution_count": null,
   "metadata": {},
   "outputs": [],
   "source": []
  }
 ],
 "metadata": {
  "kernelspec": {
   "display_name": "Python 3",
   "language": "python",
   "name": "python3"
  },
  "language_info": {
   "codemirror_mode": {
    "name": "ipython",
    "version": 3
   },
   "file_extension": ".py",
   "mimetype": "text/x-python",
   "name": "python",
   "nbconvert_exporter": "python",
   "pygments_lexer": "ipython3",
   "version": "3.6.4"
  }
 },
 "nbformat": 4,
 "nbformat_minor": 2
}
