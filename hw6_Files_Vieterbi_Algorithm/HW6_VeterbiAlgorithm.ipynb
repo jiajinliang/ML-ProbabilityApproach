{
 "cells": [
  {
   "cell_type": "code",
   "execution_count": 1,
   "metadata": {},
   "outputs": [
    {
     "name": "stdout",
     "output_type": "stream",
     "text": [
      "86834\n",
      "(27, 2)\n",
      "(27,)\n"
     ]
    }
   ],
   "source": [
    "import numpy as np\n",
    "import math\n",
    "import matplotlib.pyplot as plt\n",
    "\n",
    "TM = np.genfromtxt('./transitionMatrix.txt')#a\n",
    "EM = np.genfromtxt('./emissionMatrix.txt')#b\n",
    "OB = np.genfromtxt('./observations.txt')#o\n",
    "ID = np.genfromtxt('./initialStateDistribution.txt')#pi\n",
    "print(OB.size)\n",
    "print(EM.shape)\n",
    "print(ID.shape)"
   ]
  },
  {
   "cell_type": "code",
   "execution_count": 86,
   "metadata": {},
   "outputs": [],
   "source": [
    "def find_l(L,t):\n",
    "    l_list=[]\n",
    "    if(len(L)==0):\n",
    "        for i in range (0,27):\n",
    "            l_list.append(math.log(ID[i]*EM[i][int(OB[0])]))\n",
    "    else:\n",
    "        for j in range (0,27):\n",
    "            new_l=[]\n",
    "            for i in range (0,27):\n",
    "                new_l.append(L[-1][i]+math.log(TM[i][j]))\n",
    "            #max_i = new_l.index(max(new_l))\n",
    "            #l_list.append(max_i+math.log(EM[j][int(OB[t])]))\n",
    "            l_list.append(max(new_l)+math.log(EM[j][int(OB[t])]))\n",
    "    L.append(l_list)"
   ]
  },
  {
   "cell_type": "code",
   "execution_count": 87,
   "metadata": {},
   "outputs": [
    {
     "name": "stdout",
     "output_type": "stream",
     "text": [
      "17\n"
     ]
    },
    {
     "data": {
      "image/png": "[encoded data removed]",
      "text/plain": [
       "<matplotlib.figure.Figure at 0x2932c8dffd0>"
      ]
     },
     "metadata": {},
     "output_type": "display_data"
    }
   ],
   "source": [
    "L=[]\n",
    "for t in range (0,OB.size):\n",
    "    find_l(L,t)\n",
    "#for t in range (0,10):\n",
    "#    find_l(L,t)\n",
    "#    print(L[-1])\n",
    "\n",
    "j=L[-1].index(max(L[-1]))\n",
    "print(j)\n",
    "y=[]\n",
    "x=[]\n",
    "for t in range (OB.size-1,0,-1):\n",
    "    new_list=[]\n",
    "    for i in range (0,27):\n",
    "        new_list.append(L[t-1][i]+math.log(TM[i][j]))\n",
    "    j=new_list.index(max(new_list))\n",
    "    x.append(t)\n",
    "    y.append(chr(j+65))\n",
    "    #print(chr(j+65))\n",
    "plt.xlabel('time')\n",
    "plt.ylabel('character')\n",
    "plt.plot(x,y)\n",
    "plt.show()\n",
    "    "
   ]
  },
  {
   "cell_type": "code",
   "execution_count": 81,
   "metadata": {},
   "outputs": [
    {
     "name": "stdout",
     "output_type": "stream",
     "text": [
      "4\n",
      "3\n",
      "2\n",
      "1\n"
     ]
    }
   ],
   "source": [
    "democracischecor?"
   ]
  },
  {
   "cell_type": "code",
   "execution_count": null,
   "metadata": {},
   "outputs": [],
   "source": []
  },
  {
   "cell_type": "code",
   "execution_count": null,
   "metadata": {},
   "outputs": [],
   "source": []
  },
  {
   "cell_type": "code",
   "execution_count": null,
   "metadata": {},
   "outputs": [],
   "source": []
  }
 ],
 "metadata": {
  "kernelspec": {
   "display_name": "Python 3",
   "language": "python",
   "name": "python3"
  },
  "language_info": {
   "codemirror_mode": {
    "name": "ipython",
    "version": 3
   },
   "file_extension": ".py",
   "mimetype": "text/x-python",
   "name": "python",
   "nbconvert_exporter": "python",
   "pygments_lexer": "ipython3",
   "version": "3.6.4"
  }
 },
 "nbformat": 4,
 "nbformat_minor": 2
}
